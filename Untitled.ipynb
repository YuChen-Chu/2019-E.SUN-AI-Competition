{
 "cells": [
  {
   "cell_type": "code",
   "execution_count": 5,
   "metadata": {},
   "outputs": [],
   "source": [
    "import pandas as pd\n",
    "df=pd.read_csv('train.csv')"
   ]
  },
  {
   "cell_type": "code",
   "execution_count": 10,
   "metadata": {},
   "outputs": [
    {
     "data": {
      "text/plain": [
       "acqic        False\n",
       "bacno        False\n",
       "cano         False\n",
       "conam        False\n",
       "contp        False\n",
       "csmcu        False\n",
       "ecfg         False\n",
       "etymd        False\n",
       "flbmk         True\n",
       "flg_3dsmk     True\n",
       "fraud_ind    False\n",
       "hcefg        False\n",
       "insfg        False\n",
       "iterm        False\n",
       "locdt        False\n",
       "loctm        False\n",
       "mcc          False\n",
       "mchno        False\n",
       "ovrlt        False\n",
       "scity        False\n",
       "stocn        False\n",
       "stscd        False\n",
       "txkey        False\n",
       "dtype: bool"
      ]
     },
     "execution_count": 10,
     "metadata": {},
     "output_type": "execute_result"
    }
   ],
   "source": [
    "df.isnull().any()\n"
   ]
  },
  {
   "cell_type": "code",
   "execution_count": null,
   "metadata": {},
   "outputs": [],
   "source": []
  }
 ],
 "metadata": {
  "kernelspec": {
   "display_name": "Python 3",
   "language": "python",
   "name": "python3"
  },
  "language_info": {
   "codemirror_mode": {
    "name": "ipython",
    "version": 3
   },
   "file_extension": ".py",
   "mimetype": "text/x-python",
   "name": "python",
   "nbconvert_exporter": "python",
   "pygments_lexer": "ipython3",
   "version": "3.7.3"
  }
 },
 "nbformat": 4,
 "nbformat_minor": 2
}
